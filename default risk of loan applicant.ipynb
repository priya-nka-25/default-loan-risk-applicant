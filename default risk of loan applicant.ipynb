{
 "cells": [
  {
   "cell_type": "code",
   "execution_count": 1,
   "id": "d0106f13-b61f-4d99-ae0d-0a7cf6f90bc8",
   "metadata": {},
   "outputs": [
    {
     "name": "stdout",
     "output_type": "stream",
     "text": [
      "Requirement already satisfied: pandas in c:\\users\\hp\\downloads\\anaconda\\lib\\site-packages (2.2.2)\n",
      "Requirement already satisfied: numpy>=1.26.0 in c:\\users\\hp\\downloads\\anaconda\\lib\\site-packages (from pandas) (1.26.4)\n",
      "Requirement already satisfied: python-dateutil>=2.8.2 in c:\\users\\hp\\downloads\\anaconda\\lib\\site-packages (from pandas) (2.9.0.post0)\n",
      "Requirement already satisfied: pytz>=2020.1 in c:\\users\\hp\\downloads\\anaconda\\lib\\site-packages (from pandas) (2024.1)\n",
      "Requirement already satisfied: tzdata>=2022.7 in c:\\users\\hp\\downloads\\anaconda\\lib\\site-packages (from pandas) (2023.3)\n",
      "Requirement already satisfied: six>=1.5 in c:\\users\\hp\\downloads\\anaconda\\lib\\site-packages (from python-dateutil>=2.8.2->pandas) (1.16.0)\n"
     ]
    }
   ],
   "source": [
    "!pip install pandas"
   ]
  },
  {
   "cell_type": "code",
   "execution_count": 3,
   "id": "cfbb8217-13fa-415a-ac53-a0b223eb8879",
   "metadata": {},
   "outputs": [
    {
     "name": "stdout",
     "output_type": "stream",
     "text": [
      "Requirement already satisfied: numpy in c:\\users\\hp\\downloads\\anaconda\\lib\\site-packages (1.26.4)\n"
     ]
    }
   ],
   "source": [
    "!pip install numpy"
   ]
  },
  {
   "cell_type": "code",
   "execution_count": 7,
   "id": "b7ac7fbe-6c03-4323-b09d-f26261680b0f",
   "metadata": {},
   "outputs": [
    {
     "name": "stdout",
     "output_type": "stream",
     "text": [
      "   loan_amnt  term   int_rate  installment     annual_inc        dti  \\\n",
      "0      16795    36  19.854130  1135.898283   81609.758615  23.932018   \n",
      "1       1860    60  13.509867   835.429911  113131.624555  14.771013   \n",
      "2      39158    60  11.918700   846.536952   55222.550781  32.191551   \n",
      "3      12284    60  12.420775   498.111990   46293.043468  22.632794   \n",
      "4       7265    60  24.752991   753.026870   60797.485069  33.211360   \n",
      "\n",
      "   open_acc  revol_bal  revol_util  total_acc loan_status  \n",
      "0        10      13275   88.827220         72  Fully Paid  \n",
      "1        27      39753   45.994195         42  Fully Paid  \n",
      "2        20      34550   60.697312          9  Fully Paid  \n",
      "3         9      19641   18.849985         25  Fully Paid  \n",
      "4        17       6213   80.496683          2  Fully Paid  \n",
      "          loan_amnt         term     int_rate  installment     annual_inc  \\\n",
      "count   1000.000000  1000.000000  1000.000000  1000.000000    1000.000000   \n",
      "mean   19706.983000    47.784000    15.003214   648.497901   84068.009077   \n",
      "std    11413.777217    12.004059     5.750339   316.890137   37402.794003   \n",
      "min     1009.000000    36.000000     5.031302   100.012798   20003.993450   \n",
      "25%     9424.000000    36.000000     9.986764   385.439068   51579.947024   \n",
      "50%    19938.500000    36.000000    15.157725   650.552594   83270.729555   \n",
      "75%    28716.000000    60.000000    19.856564   916.651290  115882.449153   \n",
      "max    39952.000000    60.000000    24.988275  1197.602941  149942.501423   \n",
      "\n",
      "               dti     open_acc     revol_bal   revol_util    total_acc  \n",
      "count  1000.000000  1000.000000   1000.000000  1000.000000  1000.000000  \n",
      "mean     20.254686    14.735000  24951.119000    48.824073    40.326000  \n",
      "std      11.257180     8.467377  14413.935864    28.402690    22.996229  \n",
      "min       1.008854     1.000000     21.000000     0.024100     1.000000  \n",
      "25%      10.440206     7.000000  12375.000000    24.473771    19.000000  \n",
      "50%      19.847264    15.000000  24979.000000    48.101755    41.000000  \n",
      "75%      30.199195    22.000000  37425.750000    73.161548    61.000000  \n",
      "max      39.952924    29.000000  49961.000000    99.920730    79.000000  \n",
      "<class 'pandas.core.frame.DataFrame'>\n",
      "RangeIndex: 1000 entries, 0 to 999\n",
      "Data columns (total 11 columns):\n",
      " #   Column       Non-Null Count  Dtype  \n",
      "---  ------       --------------  -----  \n",
      " 0   loan_amnt    1000 non-null   int64  \n",
      " 1   term         1000 non-null   int64  \n",
      " 2   int_rate     1000 non-null   float64\n",
      " 3   installment  1000 non-null   float64\n",
      " 4   annual_inc   1000 non-null   float64\n",
      " 5   dti          1000 non-null   float64\n",
      " 6   open_acc     1000 non-null   int64  \n",
      " 7   revol_bal    1000 non-null   int64  \n",
      " 8   revol_util   1000 non-null   float64\n",
      " 9   total_acc    1000 non-null   int64  \n",
      " 10  loan_status  1000 non-null   object \n",
      "dtypes: float64(5), int64(5), object(1)\n",
      "memory usage: 86.1+ KB\n",
      "None\n"
     ]
    }
   ],
   "source": [
    "import pandas as pd\n",
    "\n",
    "# Load the dataset\n",
    "df = pd.read_csv('D:\\\\ASSIGNMENT\\\\synthetic_lending_club_loan_data.csv')\n",
    "\n",
    "\n",
    "# Display the first few rows of the dataframe\n",
    "print(df.head())\n",
    "\n",
    "# Display summary statistics\n",
    "print(df.describe())\n",
    "\n",
    "# Display the info of the dataframe\n",
    "print(df.info())\n"
   ]
  },
  {
   "cell_type": "code",
   "execution_count": 11,
   "id": "6ca4375b-94ca-4576-8253-02dac8bd0f5d",
   "metadata": {},
   "outputs": [],
   "source": [
    "from sklearn.model_selection import train_test_split\n",
    "from sklearn.preprocessing import StandardScaler, LabelEncoder\n",
    "\n",
    "# Encode categorical variables\n",
    "label_encoder = LabelEncoder()\n",
    "df['loan_status'] = label_encoder.fit_transform(df['loan_status'])\n",
    "\n",
    "# Split the data into features and target\n",
    "X = df.drop('loan_status', axis=1)\n",
    "y = df['loan_status']\n",
    "\n",
    "# Split the data into training and testing sets\n",
    "X_train, X_test, y_train, y_test = train_test_split(X, y, test_size=0.2, random_state=42)\n",
    "\n",
    "# Standardize the features\n",
    "scaler = StandardScaler()\n",
    "X_train = scaler.fit_transform(X_train)\n",
    "X_test = scaler.transform(X_test)\n"
   ]
  },
  {
   "cell_type": "code",
   "execution_count": 13,
   "id": "aa14b003-41c0-48ee-b6dd-221541f0b2ea",
   "metadata": {},
   "outputs": [
    {
     "name": "stdout",
     "output_type": "stream",
     "text": [
      "Accuracy Score: 0.83\n",
      "Classification Report:\n",
      "              precision    recall  f1-score   support\n",
      "\n",
      "           0       0.00      0.00      0.00        33\n",
      "           1       0.83      0.99      0.91       167\n",
      "\n",
      "    accuracy                           0.83       200\n",
      "   macro avg       0.42      0.50      0.45       200\n",
      "weighted avg       0.70      0.83      0.76       200\n",
      "\n"
     ]
    }
   ],
   "source": [
    "from sklearn.ensemble import RandomForestClassifier\n",
    "from sklearn.metrics import classification_report, accuracy_score\n",
    "\n",
    "# Initialize and train the model\n",
    "model = RandomForestClassifier(random_state=42)\n",
    "model.fit(X_train, y_train)\n",
    "\n",
    "# Make predictions\n",
    "y_pred = model.predict(X_test)\n",
    "\n",
    "# Evaluate the model\n",
    "print(\"Accuracy Score:\", accuracy_score(y_test, y_pred))\n",
    "print(\"Classification Report:\")\n",
    "print(classification_report(y_test, y_pred))\n"
   ]
  },
  {
   "cell_type": "code",
   "execution_count": 15,
   "id": "669599b8-0fd5-44f5-8f31-7541fdee99da",
   "metadata": {},
   "outputs": [
    {
     "data": {
      "image/png": "[encoded data removed]",
      "text/plain": [
       "<Figure size 800x600 with 2 Axes>"
      ]
     },
     "metadata": {},
     "output_type": "display_data"
    }
   ],
   "source": [
    "from sklearn.metrics import confusion_matrix\n",
    "import seaborn as sns\n",
    "import matplotlib.pyplot as plt\n",
    "\n",
    "# Compute confusion matrix\n",
    "conf_matrix = confusion_matrix(y_test, y_pred)\n",
    "\n",
    "# Plot confusion matrix\n",
    "plt.figure(figsize=(8,6))\n",
    "sns.heatmap(conf_matrix, annot=True, fmt='d', cmap='Blues', \n",
    "            xticklabels=label_encoder.classes_, \n",
    "            yticklabels=label_encoder.classes_)\n",
    "plt.xlabel('Predicted')\n",
    "plt.ylabel('True')\n",
    "plt.title('Confusion Matrix')\n",
    "plt.show()\n"
   ]
  },
  {
   "cell_type": "code",
   "execution_count": 17,
   "id": "88210325-253c-4b2b-9989-a3122c010a12",
   "metadata": {},
   "outputs": [
    {
     "name": "stdout",
     "output_type": "stream",
     "text": [
      "Fitting 3 folds for each of 36 candidates, totalling 108 fits\n",
      "Best Parameters: {'max_depth': None, 'min_samples_split': 2, 'n_estimators': 100}\n"
     ]
    }
   ],
   "source": [
    "from sklearn.model_selection import GridSearchCV\n",
    "\n",
    "# Define the parameter grid\n",
    "param_grid = {\n",
    "    'n_estimators': [50, 100, 200],\n",
    "    'max_depth': [None, 10, 20, 30],\n",
    "    'min_samples_split': [2, 5, 10]\n",
    "}\n",
    "\n",
    "# Initialize GridSearchCV\n",
    "grid_search = GridSearchCV(estimator=RandomForestClassifier(random_state=42), \n",
    "                           param_grid=param_grid, \n",
    "                           cv=3, \n",
    "                           n_jobs=-1, \n",
    "                           verbose=2)\n",
    "\n",
    "# Fit GridSearchCV\n",
    "grid_search.fit(X_train, y_train)\n",
    "\n",
    "# Print best parameters\n",
    "print(\"Best Parameters:\", grid_search.best_params_)\n"
   ]
  },
  {
   "cell_type": "code",
   "execution_count": 21,
   "id": "aee06d36-18bb-40d8-b7f6-834365139f8a",
   "metadata": {},
   "outputs": [
    {
     "name": "stdout",
     "output_type": "stream",
     "text": [
      "Model saved successfully as 'loan_default_model.pkl'\n"
     ]
    }
   ],
   "source": [
    "import joblib\n",
    "\n",
    "# Assume 'model' is your trained model\n",
    "model = ...  # Your model should be trained before saving\n",
    "\n",
    "# Save the model\n",
    "joblib.dump(model, 'loan_default_model.pkl')\n",
    "\n",
    "print(\"Model saved successfully as 'loan_default_model.pkl'\")\n",
    "\n"
   ]
  },
  {
   "cell_type": "code",
   "execution_count": 23,
   "id": "b228df8a-15c3-4704-a0ed-1db115aad8b1",
   "metadata": {},
   "outputs": [
    {
     "name": "stdout",
     "output_type": "stream",
     "text": [
      "Accuracy Score: 0.83\n",
      "Classification Report:\n",
      "              precision    recall  f1-score   support\n",
      "\n",
      "           0       0.00      0.00      0.00        33\n",
      "           1       0.83      0.99      0.91       167\n",
      "\n",
      "    accuracy                           0.83       200\n",
      "   macro avg       0.42      0.50      0.45       200\n",
      "weighted avg       0.70      0.83      0.76       200\n",
      "\n"
     ]
    }
   ],
   "source": [
    "from sklearn.metrics import classification_report, accuracy_score\n",
    "\n",
    "# Assuming X_test and y_test are your test data\n",
    "predictions = loaded_model.predict(X_test)\n",
    "\n",
    "print(\"Accuracy Score:\", accuracy_score(y_test, predictions))\n",
    "print(\"Classification Report:\")\n",
    "print(classification_report(y_test, predictions))\n"
   ]
  },
  {
   "cell_type": "code",
   "execution_count": 29,
   "id": "730c48ba-8b52-4710-9275-aeedb69ce1d4",
   "metadata": {},
   "outputs": [
    {
     "name": "stdout",
     "output_type": "stream",
     "text": [
      "Predictions for new data: [1]\n"
     ]
    }
   ],
   "source": [
    "# Example new data (make sure it has the same feature structure as your training data)\n",
    "new_data = [[5.1, 3.5, 1.4, 0.2,3.4,7.8,9.9,4.4,0.9,7.9]]  # Replace with actual new data\n",
    "\n",
    "# Predict using the loaded model\n",
    "predictions = loaded_model.predict(new_data)\n",
    "print(\"Predictions for new data:\", predictions)\n"
   ]
  },
  {
   "cell_type": "code",
   "execution_count": null,
   "id": "cec0bdda-5382-4951-9988-7863e26c6579",
   "metadata": {},
   "outputs": [],
   "source": []
  }
 ],
 "metadata": {
  "kernelspec": {
   "display_name": "Python 3 (ipykernel)",
   "language": "python",
   "name": "python3"
  },
  "language_info": {
   "codemirror_mode": {
    "name": "ipython",
    "version": 3
   },
   "file_extension": ".py",
   "mimetype": "text/x-python",
   "name": "python",
   "nbconvert_exporter": "python",
   "pygments_lexer": "ipython3",
   "version": "3.12.4"
  }
 },
 "nbformat": 4,
 "nbformat_minor": 5
}
